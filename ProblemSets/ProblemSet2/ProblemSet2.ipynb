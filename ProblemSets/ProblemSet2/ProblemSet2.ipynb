{
 "cells": [
  {
   "cell_type": "markdown",
   "metadata": {},
   "source": [
    "# Problem Set 2\n",
    "## Standard Library Problems\n",
    "### Problem 1"
   ]
  },
  {
   "cell_type": "code",
   "execution_count": 11,
   "metadata": {},
   "outputs": [],
   "source": [
    "def summary(L):\n",
    "    print(min(L), max(L), sum(L)/len(L))"
   ]
  },
  {
   "cell_type": "code",
   "execution_count": 12,
   "metadata": {},
   "outputs": [
    {
     "name": "stdout",
     "output_type": "stream",
     "text": [
      "1 4 2.5\n"
     ]
    }
   ],
   "source": [
    "summary([1, 2, 3, 4])"
   ]
  },
  {
   "cell_type": "markdown",
   "metadata": {},
   "source": [
    "### Problem 2\n",
    "\n",
    "Integer:"
   ]
  },
  {
   "cell_type": "code",
   "execution_count": 13,
   "metadata": {},
   "outputs": [],
   "source": [
    "answer = 42"
   ]
  },
  {
   "cell_type": "code",
   "execution_count": 14,
   "metadata": {},
   "outputs": [],
   "source": [
    "dontpanic = answer"
   ]
  },
  {
   "cell_type": "code",
   "execution_count": 15,
   "metadata": {},
   "outputs": [],
   "source": [
    "dontpanic = dontpanic + 3"
   ]
  },
  {
   "cell_type": "code",
   "execution_count": 16,
   "metadata": {},
   "outputs": [
    {
     "name": "stdout",
     "output_type": "stream",
     "text": [
      "45\n"
     ]
    }
   ],
   "source": [
    "print(dontpanic)"
   ]
  },
  {
   "cell_type": "code",
   "execution_count": 17,
   "metadata": {},
   "outputs": [
    {
     "name": "stdout",
     "output_type": "stream",
     "text": [
      "42\n"
     ]
    }
   ],
   "source": [
    "print(answer)"
   ]
  },
  {
   "cell_type": "markdown",
   "metadata": {},
   "source": [
    "Thus, since *answer* no longer equals *dontpanic*, integers are immutable.\n",
    "\n",
    "String:\n"
   ]
  },
  {
   "cell_type": "code",
   "execution_count": 18,
   "metadata": {},
   "outputs": [],
   "source": [
    "name = \"Jonathan\""
   ]
  },
  {
   "cell_type": "code",
   "execution_count": 19,
   "metadata": {},
   "outputs": [],
   "source": [
    "person = name"
   ]
  },
  {
   "cell_type": "code",
   "execution_count": 20,
   "metadata": {},
   "outputs": [],
   "source": [
    "person = \"not Jonathan\""
   ]
  },
  {
   "cell_type": "code",
   "execution_count": 21,
   "metadata": {},
   "outputs": [
    {
     "name": "stdout",
     "output_type": "stream",
     "text": [
      "Jonathan\n"
     ]
    }
   ],
   "source": [
    "print(name)"
   ]
  },
  {
   "cell_type": "code",
   "execution_count": 22,
   "metadata": {},
   "outputs": [
    {
     "name": "stdout",
     "output_type": "stream",
     "text": [
      "not Jonathan\n"
     ]
    }
   ],
   "source": [
    "print(person)"
   ]
  },
  {
   "cell_type": "markdown",
   "metadata": {},
   "source": [
    "So strings are also immutable since the two objects are different.\n",
    "\n",
    "List:"
   ]
  },
  {
   "cell_type": "code",
   "execution_count": 23,
   "metadata": {},
   "outputs": [],
   "source": [
    "mylist = [1, 2, 3, 'a', 'b', 'c']"
   ]
  },
  {
   "cell_type": "code",
   "execution_count": 24,
   "metadata": {},
   "outputs": [],
   "source": [
    "thislist = mylist"
   ]
  },
  {
   "cell_type": "code",
   "execution_count": 25,
   "metadata": {},
   "outputs": [],
   "source": [
    "thislist[1] = 6"
   ]
  },
  {
   "cell_type": "code",
   "execution_count": 26,
   "metadata": {},
   "outputs": [
    {
     "name": "stdout",
     "output_type": "stream",
     "text": [
      "[1, 6, 3, 'a', 'b', 'c']\n"
     ]
    }
   ],
   "source": [
    "print(thislist)"
   ]
  },
  {
   "cell_type": "code",
   "execution_count": 27,
   "metadata": {},
   "outputs": [
    {
     "name": "stdout",
     "output_type": "stream",
     "text": [
      "[1, 6, 3, 'a', 'b', 'c']\n"
     ]
    }
   ],
   "source": [
    "print(mylist)"
   ]
  },
  {
   "cell_type": "markdown",
   "metadata": {},
   "source": [
    "Since both objects are the same, lists are mutable.\n",
    "\n",
    "Tuple:"
   ]
  },
  {
   "cell_type": "code",
   "execution_count": 28,
   "metadata": {},
   "outputs": [],
   "source": [
    "mytuple = (4, 5, 6, 'd', 'e', 'f')"
   ]
  },
  {
   "cell_type": "code",
   "execution_count": 29,
   "metadata": {},
   "outputs": [],
   "source": [
    "thistuple = mytuple"
   ]
  },
  {
   "cell_type": "code",
   "execution_count": 30,
   "metadata": {},
   "outputs": [],
   "source": [
    "thistuple += (1,)"
   ]
  },
  {
   "cell_type": "code",
   "execution_count": 31,
   "metadata": {},
   "outputs": [
    {
     "name": "stdout",
     "output_type": "stream",
     "text": [
      "(4, 5, 6, 'd', 'e', 'f', 1)\n"
     ]
    }
   ],
   "source": [
    "print(thistuple)"
   ]
  },
  {
   "cell_type": "code",
   "execution_count": 32,
   "metadata": {},
   "outputs": [
    {
     "data": {
      "text/plain": [
       "(4, 5, 6, 'd', 'e', 'f')"
      ]
     },
     "execution_count": 32,
     "metadata": {},
     "output_type": "execute_result"
    }
   ],
   "source": [
    "mytuple"
   ]
  },
  {
   "cell_type": "markdown",
   "metadata": {},
   "source": [
    "Since the objects are now different, tuples are immutable.\n",
    "\n",
    "Set:"
   ]
  },
  {
   "cell_type": "code",
   "execution_count": 33,
   "metadata": {},
   "outputs": [],
   "source": [
    "myset = {1, 3, 5, 7}"
   ]
  },
  {
   "cell_type": "code",
   "execution_count": 34,
   "metadata": {},
   "outputs": [],
   "source": [
    "newset = myset"
   ]
  },
  {
   "cell_type": "code",
   "execution_count": 35,
   "metadata": {},
   "outputs": [],
   "source": [
    "newset.discard(3)"
   ]
  },
  {
   "cell_type": "code",
   "execution_count": 36,
   "metadata": {},
   "outputs": [
    {
     "name": "stdout",
     "output_type": "stream",
     "text": [
      "{1, 5, 7}\n"
     ]
    }
   ],
   "source": [
    "print(newset)"
   ]
  },
  {
   "cell_type": "code",
   "execution_count": 37,
   "metadata": {},
   "outputs": [
    {
     "name": "stdout",
     "output_type": "stream",
     "text": [
      "{1, 5, 7}\n"
     ]
    }
   ],
   "source": [
    "print(myset)"
   ]
  },
  {
   "cell_type": "markdown",
   "metadata": {},
   "source": [
    "Thus, sets are mutable, because both objects are equal."
   ]
  },
  {
   "cell_type": "markdown",
   "metadata": {},
   "source": [
    "### Problem 3"
   ]
  },
  {
   "cell_type": "code",
   "execution_count": 1,
   "metadata": {},
   "outputs": [],
   "source": [
    "import calculator as calc"
   ]
  },
  {
   "cell_type": "code",
   "execution_count": 2,
   "metadata": {},
   "outputs": [],
   "source": [
    "run calculator"
   ]
  },
  {
   "cell_type": "code",
   "execution_count": 5,
   "metadata": {},
   "outputs": [],
   "source": [
    "def hyp(a, b):\n",
    "    return sqrt(calc.add(calc.mult(a, a), calc.mult(b, b)))"
   ]
  },
  {
   "cell_type": "code",
   "execution_count": 6,
   "metadata": {},
   "outputs": [
    {
     "data": {
      "text/plain": [
       "5.0"
      ]
     },
     "execution_count": 6,
     "metadata": {},
     "output_type": "execute_result"
    }
   ],
   "source": [
    "hyp(3,4)"
   ]
  },
  {
   "cell_type": "markdown",
   "metadata": {},
   "source": [
    "## Introduction to NumPy\n",
    "\n",
    "### Problem 1\n"
   ]
  },
  {
   "cell_type": "code",
   "execution_count": 5,
   "metadata": {},
   "outputs": [],
   "source": [
    "import numpy as np"
   ]
  },
  {
   "cell_type": "code",
   "execution_count": 6,
   "metadata": {},
   "outputs": [],
   "source": [
    "def ardot():\n",
    "    A = np.array( [ [3, -1, 4],[1, 5, -9] ] )\n",
    "    B = np.array([ [ 2, 6, -5, 3],[5, -8, 9, 7],[9, -3, -2, -3] ] )\n",
    "    \n",
    "    return A @ B"
   ]
  },
  {
   "cell_type": "code",
   "execution_count": 7,
   "metadata": {},
   "outputs": [
    {
     "data": {
      "text/plain": [
       "array([[ 37,  14, -32, -10],\n",
       "       [-54,  -7,  58,  65]])"
      ]
     },
     "execution_count": 7,
     "metadata": {},
     "output_type": "execute_result"
    }
   ],
   "source": [
    "ardot()"
   ]
  },
  {
   "cell_type": "markdown",
   "metadata": {},
   "source": [
    "### Problem 2"
   ]
  },
  {
   "cell_type": "code",
   "execution_count": 10,
   "metadata": {},
   "outputs": [],
   "source": [
    "def myfunction():\n",
    "    A = np.array( [ [3, 1, 4],[1, 5, 9],[-5, 3, 1] ] )\n",
    "    \n",
    "    return -(A @ A @ A) + (9 * (A @ A)) - (15 * A)"
   ]
  },
  {
   "cell_type": "code",
   "execution_count": 11,
   "metadata": {},
   "outputs": [
    {
     "data": {
      "text/plain": [
       "array([[0, 0, 0],\n",
       "       [0, 0, 0],\n",
       "       [0, 0, 0]])"
      ]
     },
     "execution_count": 11,
     "metadata": {},
     "output_type": "execute_result"
    }
   ],
   "source": [
    "myfunction()"
   ]
  },
  {
   "cell_type": "markdown",
   "metadata": {},
   "source": [
    "### Problem 5"
   ]
  },
  {
   "cell_type": "code",
   "execution_count": 1,
   "metadata": {},
   "outputs": [],
   "source": [
    "import numpy as np\n",
    "def matfunc():\n",
    "    A = np.array( [ [0, 2, 4], [1, 3, 5] ] )\n",
    "    B = np.array( [ [3, 0, 0], [3, 3, 0], [3, 3, 3] ] )\n",
    "    C = np.array( [ [-2, 0, 0], [0, -2, 0], [0, 0, -2] ] )\n",
    "    \n",
    "    row1 = np.column_stack((np.zeros((3,3)), A.T, np.eye(3)))\n",
    "    row2 = np.column_stack((A, np.zeros((2,2)), np.zeros_like(A)))\n",
    "    row3 = np.column_stack((B, np.zeros_like(A.T), C))\n",
    "    newmat = np.concatenate((row1, row2, row3))\n",
    "    \n",
    "    return newmat"
   ]
  },
  {
   "cell_type": "code",
   "execution_count": 2,
   "metadata": {},
   "outputs": [
    {
     "data": {
      "text/plain": [
       "array([[ 0.,  0.,  0.,  0.,  1.,  1.,  0.,  0.],\n",
       "       [ 0.,  0.,  0.,  2.,  3.,  0.,  1.,  0.],\n",
       "       [ 0.,  0.,  0.,  4.,  5.,  0.,  0.,  1.],\n",
       "       [ 0.,  2.,  4.,  0.,  0.,  0.,  0.,  0.],\n",
       "       [ 1.,  3.,  5.,  0.,  0.,  0.,  0.,  0.],\n",
       "       [ 3.,  0.,  0.,  0.,  0., -2.,  0.,  0.],\n",
       "       [ 3.,  3.,  0.,  0.,  0.,  0., -2.,  0.],\n",
       "       [ 3.,  3.,  3.,  0.,  0.,  0.,  0., -2.]])"
      ]
     },
     "execution_count": 2,
     "metadata": {},
     "output_type": "execute_result"
    }
   ],
   "source": [
    "matfunc()"
   ]
  },
  {
   "cell_type": "markdown",
   "metadata": {},
   "source": [
    "## Object Oriented Programming\n",
    "\n",
    "### Problem 1"
   ]
  },
  {
   "cell_type": "code",
   "execution_count": 1,
   "metadata": {},
   "outputs": [],
   "source": [
    "class Backpack:\n",
    "    '''\n",
    "    A Backpack object class. Has a name, color, and list of objects.\n",
    "\n",
    "    Attributes:\n",
    "        name (str): the name of the backpack's owner.\n",
    "        color (str): the color of the backpack.\n",
    "        contents (list): the contents of the backpack\n",
    "    '''\n",
    "    def __init__(self, name, color, max_size = 5):\n",
    "        '''\n",
    "        Set the name, initialize an empty list of contents, set the color and\n",
    "        set a default maximum number of items.\n",
    "        \n",
    "        Parameters:\n",
    "            name (str): the name of the backpack's owner.\n",
    "            color (str): the color of the backpack.\n",
    "            max_size (int): the maximum number of items the backpack can contain.\n",
    "        '''\n",
    "\n",
    "        self.name = name\n",
    "        self.color = color\n",
    "        self.max_size = max_size\n",
    "        self.contents = []\n",
    "        \n",
    "    def put(self, item):\n",
    "        '''\n",
    "        Adds an item to the backpack.\n",
    "        \n",
    "        Args:\n",
    "            item (str): name of item to be added to the backpack\n",
    "        \n",
    "        Returns:\n",
    "            \"No Room!\" if max_size is already reached.\n",
    "        '''\n",
    "        if len(self.contents) < 5:\n",
    "            self.contents.append(item)\n",
    "            \n",
    "        else:\n",
    "            print(\"No room!\")\n",
    "    \n",
    "    def take(self, item):\n",
    "        '''\n",
    "        Takes an item out of the backpack.\n",
    "        \n",
    "        Args:\n",
    "            item (str): name of the item to be taken out of the backpack\n",
    "            \n",
    "        Returns:\n",
    "            Nothing\n",
    "        '''\n",
    "        self.contents.remove(item)\n",
    "    \n",
    "    def dump(self):\n",
    "        '''\n",
    "        Empties all of the contents of the backpack.\n",
    "        \n",
    "        Args:\n",
    "            None.\n",
    "        \n",
    "        Returns:\n",
    "            Nothing.\n",
    "        '''\n",
    "        self.contents = []\n",
    "        "
   ]
  },
  {
   "cell_type": "code",
   "execution_count": 2,
   "metadata": {},
   "outputs": [],
   "source": [
    "def test_backpack():\n",
    "    testpack = Backpack(\"Barry\",\"black\")\n",
    "    if testpack.name != \"Barry\":\n",
    "        print(\"Backpack.name assigned incorrectly\")\n",
    "    for item in [\"pencil\", \"pen\", \"paper\", \"computer\"]:\n",
    "        testpack.put(item)\n",
    "    print(\"Contents:\", testpack.contents)"
   ]
  },
  {
   "cell_type": "code",
   "execution_count": 3,
   "metadata": {},
   "outputs": [
    {
     "name": "stdout",
     "output_type": "stream",
     "text": [
      "Contents: ['pencil', 'pen', 'paper', 'computer']\n"
     ]
    }
   ],
   "source": [
    "test_backpack()"
   ]
  },
  {
   "cell_type": "markdown",
   "metadata": {},
   "source": [
    "### Problem 2"
   ]
  },
  {
   "cell_type": "code",
   "execution_count": 15,
   "metadata": {},
   "outputs": [],
   "source": [
    "class Jetpack(Backpack):\n",
    "    '''\n",
    "    A Jetpack object class. Inherits from the Backpack class.\n",
    "\n",
    "    Attributes: \n",
    "        name (str): the name of the backpack's owner.\n",
    "        color (str): the color of the backpack.\n",
    "        max_size (int): the maximum number of items the backpack can contain.\n",
    "        contents (list): the contents of the backpack.\n",
    "        fuel (int): the amount of fuel in the tank.\n",
    "    '''\n",
    "    def __init__(self, name, color, max_size = 2):\n",
    "        '''\n",
    "        Set the name, initialize an empty list of contents, set a color, set a default\n",
    "        maximum number of items, and set a default amount of fuel.\n",
    "        \n",
    "        Args:\n",
    "            name (str): the name of the backpack's owner.\n",
    "            color (str): the color of the backpack.\n",
    "            max_size (int): the maximum number of items the backpack can contain (default = 2).\n",
    "            fuel (int): the amount of fuel in the tank (default =10).\n",
    "        '''\n",
    "        \n",
    "        Backpack.__init__(self, name, color, max_size)\n",
    "        self.fuel = fuel\n",
    "    \n",
    "    def fly(self, burnamnt):\n",
    "        '''\n",
    "        Flies and burns fuel if there is enough fuel to burn the specified amount.\n",
    "        \n",
    "        Args:\n",
    "            burnamnt (int): amount of fuel to be burned\n",
    "            \n",
    "        Returns:\n",
    "            \"Not enough fuel!\" if the amount entered is greater than the amount in the tank (i.e. \n",
    "            the number in \"fuel.\")\n",
    "        '''\n",
    "        if burnamnt > fuel:\n",
    "            print(\"Not enough fuel!\")\n",
    "            \n",
    "        else:\n",
    "            fuel = fuel - burnamnt\n",
    "        \n",
    "    def dump(self):\n",
    "        '''\n",
    "        Empties all the contents of the backpack and all of the fuel.\n",
    "        \n",
    "        Args:\n",
    "            None.\n",
    "        \n",
    "        Returns:\n",
    "            Nothing.\n",
    "        '''\n",
    "        self.contents = []\n",
    "        self.fuel = 0\n",
    "    "
   ]
  },
  {
   "cell_type": "code",
   "execution_count": null,
   "metadata": {},
   "outputs": [],
   "source": []
  }
 ],
 "metadata": {
  "kernelspec": {
   "display_name": "Python 3",
   "language": "python",
   "name": "python3"
  },
  "language_info": {
   "codemirror_mode": {
    "name": "ipython",
    "version": 3
   },
   "file_extension": ".py",
   "mimetype": "text/x-python",
   "name": "python",
   "nbconvert_exporter": "python",
   "pygments_lexer": "ipython3",
   "version": "3.7.3"
  }
 },
 "nbformat": 4,
 "nbformat_minor": 2
}
